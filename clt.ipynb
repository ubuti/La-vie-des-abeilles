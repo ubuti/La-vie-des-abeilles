{
 "cells": [
  {
   "cell_type": "markdown",
   "metadata": {},
   "source": [
    "### What is this about?\n",
    "\n",
    "*Key Concepts*\n",
    "\n",
    "#### *The central limit theorem* *The law of large numbers* *Real-world application*\n",
    "\n",
    "![Copy Right](https://miro.medium.com/v2/resize:fit:2560/format:webp/1*N1g9hUN9t6BjaXSqVKwbEQ.png)\n",
    " \n",
    "©️ https://miro.medium.com/v2/resize:fit:2560/format:webp/1*N1g9hUN9t6BjaXSqVKwbEQ.png\n",
    "\n",
    "* What is a the central limit theorem?\n",
    "\n",
    "It refers to the fact that for a large number $N$ a series of sampled random variables (e.g. the means of a set of samples) tends to form a normal distribution irrespective of the original distribution the data comes from.\n",
    "\n",
    "* How does it apply to (any) distribution?\n",
    "\n",
    "To answer this you are encouraged to inspect the probability distributions below. You can play with the slider to see the transition within each distribution depending on the number of means computed. It affects all of them!\n",
    "\n",
    "\n",
    "* Where does it apply in the real world/what usage can be made?\n",
    "\n",
    "This is perhaps the most useful question. Go through the notebook to find out.\n",
    "\n"
   ]
  },
  {
   "cell_type": "code",
   "execution_count": 1,
   "metadata": {},
   "outputs": [
    {
     "data": {
      "text/plain": [
       "Text(0.5, 1.0, 'Sample size: 10000')"
      ]
     },
     "execution_count": 1,
     "metadata": {},
     "output_type": "execute_result"
    },
    {
     "data": {
      "image/png": "[encoded data removed]",
      "text/plain": [
       "<Figure size 1000x500 with 2 Axes>"
      ]
     },
     "metadata": {},
     "output_type": "display_data"
    }
   ],
   "source": [
    "# Binominal\n",
    "\n",
    "# The idea is simple: compute a series of means and look how they are distributed. \n",
    "# Binomial distribution is a good candidate for this task. It models a coin toss with n trials and p probability of success as either 0 or 1.\n",
    "# The mean of a binomial distribution is n*p.\n",
    "\n",
    "\n",
    "import numpy as np\n",
    "import matplotlib.pyplot as plt\n",
    "\n",
    "fig, axs = plt.subplots(1, 2, figsize=(10, 5))\n",
    "\n",
    "# n trials with p probability organized in m sequences\n",
    "n, p, m = 100, 0.5, 1000\n",
    "draw = np.random.binomial(n, p, m)\n",
    "axs[0].hist(draw, bins=max(10, int(np.sqrt(m))));\n",
    "axs[0].set_title(\"Sample size: 1000\")\n",
    "\n",
    "n, p, m = 100, 0.5, 10000\n",
    "draw = np.random.binomial(n, p, m)\n",
    "axs[1].hist(draw, bins=max(10, int(np.sqrt(m))));\n",
    "axs[1].set_title(\"Sample size: 10000\")"
   ]
  },
  {
   "cell_type": "code",
   "execution_count": 2,
   "metadata": {},
   "outputs": [
    {
     "data": {
      "application/vnd.jupyter.widget-view+json": {
       "model_id": "3f666c90ed7e436994a6b296078408db",
       "version_major": 2,
       "version_minor": 0
      },
      "text/plain": [
       "interactive(children=(IntSlider(value=10, description='Samples:', max=10000, min=10, step=10), IntSlider(value…"
      ]
     },
     "metadata": {},
     "output_type": "display_data"
    },
    {
     "data": {
      "application/vnd.jupyter.widget-view+json": {
       "model_id": "d478a48309b648ef85bdca44b17e033a",
       "version_major": 2,
       "version_minor": 0
      },
      "text/plain": [
       "interactive(children=(IntSlider(value=10, description='Samples:', max=10000, min=10, step=10), IntSlider(value…"
      ]
     },
     "metadata": {},
     "output_type": "display_data"
    },
    {
     "data": {
      "application/vnd.jupyter.widget-view+json": {
       "model_id": "07cb1778aeae481b8bdff36cf007dc2e",
       "version_major": 2,
       "version_minor": 0
      },
      "text/plain": [
       "interactive(children=(IntSlider(value=10, description='Samples:', max=10000, min=10, step=10), IntSlider(value…"
      ]
     },
     "metadata": {},
     "output_type": "display_data"
    },
    {
     "data": {
      "application/vnd.jupyter.widget-view+json": {
       "model_id": "de7f34274b94403b82840e3573f17f51",
       "version_major": 2,
       "version_minor": 0
      },
      "text/plain": [
       "interactive(children=(IntSlider(value=10, description='Samples:', max=10000, min=10, step=10), IntSlider(value…"
      ]
     },
     "metadata": {},
     "output_type": "display_data"
    },
    {
     "data": {
      "application/vnd.jupyter.widget-view+json": {
       "model_id": "cc52ee3c0a524d22bcd20da273a7b8d7",
       "version_major": 2,
       "version_minor": 0
      },
      "text/plain": [
       "interactive(children=(IntSlider(value=10, description='Samples:', max=10000, min=10, step=10), IntSlider(value…"
      ]
     },
     "metadata": {},
     "output_type": "display_data"
    },
    {
     "data": {
      "application/vnd.jupyter.widget-view+json": {
       "model_id": "ba01c6a5fac841e2b89d3b5567d6b0cd",
       "version_major": 2,
       "version_minor": 0
      },
      "text/plain": [
       "interactive(children=(IntSlider(value=10, description='Samples:', max=10000, min=10, step=10), IntSlider(value…"
      ]
     },
     "metadata": {},
     "output_type": "display_data"
    }
   ],
   "source": [
    "import numpy as np\n",
    "import matplotlib.pyplot as plt\n",
    "from ipywidgets import interactive, IntSlider, widgets\n",
    "from IPython.display import display\n",
    "from scipy import stats\n",
    "\n",
    "\n",
    "def draw_calc_mean(nsequences, func, means_sampled=30, bins=None, overlay_normal=True, **kwargs):\n",
    "    plt.figure(figsize=(10, 6))\n",
    "\n",
    "    # Generate nsequences samples, each of size means_sampled\n",
    "    draw = func(size=(nsequences, means_sampled), **kwargs)\n",
    "\n",
    "    # Calculate mean for each sample\n",
    "    randomvars = np.mean(draw, axis=1)\n",
    "\n",
    "    # Calculate mean and standard deviation of the sample means\n",
    "    sample_mean = np.mean(randomvars)\n",
    "    sample_std = np.std(randomvars)\n",
    "\n",
    "    # Determine number of bins if not specified\n",
    "    if bins is None:\n",
    "        bins = max(10, nsequences // 100)\n",
    "\n",
    "    # Plot histogram\n",
    "    n, bins, patches = plt.hist(\n",
    "        randomvars, bins=bins, density=True, edgecolor='black', alpha=0.7)\n",
    "\n",
    "    # Overlay normal distribution if requested\n",
    "    if overlay_normal:\n",
    "        x = np.linspace(min(randomvars), max(randomvars), 100)\n",
    "        plt.plot(x, stats.norm.pdf(x, sample_mean, sample_std), 'r-', lw=2,\n",
    "                 label=f'Normal: μ={sample_mean:.2f}, σ={sample_std:.2f}')\n",
    "        plt.legend()\n",
    "\n",
    "    plt.title(\n",
    "        f'Mean of {func.__name__} Distribution\\n{nsequences} samples, each of size {means_sampled}')\n",
    "    plt.xlabel('Sample Mean')\n",
    "    plt.ylabel('Density')\n",
    "    plt.grid(True, alpha=0.3)\n",
    "    plt.show()\n",
    "\n",
    "\n",
    "def interactive_dist(func, min_samples=10, max_samples=10000, min_bins=10, max_bins=100, **kwargs):\n",
    "    def update(nsequences, bins, overlay_normal):\n",
    "        draw_calc_mean(nsequences, func, bins=bins,\n",
    "                       overlay_normal=overlay_normal, **kwargs)\n",
    "\n",
    "    samples_slider = IntSlider(\n",
    "        min=min_samples, max=max_samples, step=10, value=min_samples, description='Samples:')\n",
    "    bins_slider = IntSlider(min=min_bins, max=max_bins,\n",
    "                            step=5, value=min_bins, description='Bins:')\n",
    "    overlay_checkbox = widgets.Checkbox(\n",
    "        value=True, description='Overlay Normal')\n",
    "\n",
    "    return interactive(update, nsequences=samples_slider, bins=bins_slider, overlay_normal=overlay_checkbox)\n",
    "\n",
    "\n",
    "# Example usage:\n",
    "# Binomial distribution\n",
    "binomial_widget = interactive_dist(np.random.binomial, n=100, p=0.2)\n",
    "display(binomial_widget)\n",
    "\n",
    "# Normal distribution\n",
    "normal_widget = interactive_dist(np.random.normal, loc=0, scale=1)\n",
    "display(normal_widget)\n",
    "\n",
    "# Poisson distribution\n",
    "poisson_widget = interactive_dist(np.random.poisson, lam=3)\n",
    "display(poisson_widget)\n",
    "\n",
    "# Exponential distribution\n",
    "exponential_widget = interactive_dist(np.random.exponential, scale=1)\n",
    "display(exponential_widget)\n",
    "\n",
    "# Uniform distribution\n",
    "uniform_widget = interactive_dist(np.random.uniform, low=0, high=1)\n",
    "display(uniform_widget)\n",
    "\n",
    "# Gamma distribution\n",
    "gamma_widget = interactive_dist(np.random.gamma, shape=2, scale=1)\n",
    "display(gamma_widget)"
   ]
  },
  {
   "cell_type": "code",
   "execution_count": 3,
   "metadata": {},
   "outputs": [
    {
     "data": {
      "application/vnd.jupyter.widget-view+json": {
       "model_id": "588d28b982d24b0ea54d135a796b5610",
       "version_major": 2,
       "version_minor": 0
      },
      "text/plain": [
       "VBox(children=(IntSlider(value=6, description='Sides:', min=2), IntSlider(value=1, description='Rolls:', min=1…"
      ]
     },
     "metadata": {},
     "output_type": "display_data"
    }
   ],
   "source": [
    "import random\n",
    "import ipywidgets as widgets\n",
    "from IPython.display import display\n",
    "\n",
    "\n",
    "def roll_die(sides=6):\n",
    "    return random.randint(1, sides)\n",
    "\n",
    "\n",
    "def simulate_rolls(sides, num_rolls):\n",
    "    results = [roll_die(sides) for _ in range(num_rolls)]\n",
    "    mean_value = sum(results) / num_rolls if num_rolls > 0 else 0\n",
    "    expected_value = np.mean(range(1, sides+1))\n",
    "    results_text = ', '.join(map(str, results))\n",
    "    return f\"Roll results: {results_text}<br>Mean value: {mean_value:.2f} <br>Expected value: {expected_value:1f}\"\n",
    "\n",
    "\n",
    "def update_results(change):\n",
    "    sides = sides_slider.value\n",
    "    num_rolls = rolls_slider.value\n",
    "    results_output.value = simulate_rolls(sides, num_rolls)\n",
    "\n",
    "\n",
    "# Create sliders for sides and number of rolls\n",
    "sides_slider = widgets.IntSlider(\n",
    "    value=6, min=2, max=100, step=1, description='Sides:')\n",
    "rolls_slider = widgets.IntSlider(\n",
    "    value=1, min=1, max=100, step=1, description='Rolls:')\n",
    "\n",
    "# Create output widget for displaying results\n",
    "results_output = widgets.HTML()\n",
    "\n",
    "# Attach the update function to the sliders\n",
    "sides_slider.observe(update_results, names='value')\n",
    "rolls_slider.observe(update_results, names='value')\n",
    "\n",
    "# Display the widgets\n",
    "display(widgets.VBox([sides_slider, rolls_slider, results_output]))\n",
    "\n",
    "# Initial display of results\n",
    "update_results(None)"
   ]
  },
  {
   "cell_type": "code",
   "execution_count": 55,
   "metadata": {},
   "outputs": [
    {
     "name": "stdout",
     "output_type": "stream",
     "text": [
      "Checking consistency between DataFrame 1 and DataFrame 2\n",
      "Result: False\n",
      "Checking consistency between DataFrame 1 and DataFrame 3\n",
      "Result: True\n",
      "Checking consistency between DataFrame 2 and DataFrame 3\n",
      "Result: False\n"
     ]
    }
   ],
   "source": [
    "import pandas as pd\n",
    "\n",
    "df = pd.read_excel('./Data/CallCenter/01 Call-Center-Dataset.xlsx')\n",
    "df2 = pd.read_csv('./Data/CallCenter/Call Center Data.csv')\n",
    "df3 = pd.read_excel(\n",
    "    './Data/CallCenter/Telecom Company Call-Center-Dataset.xlsx')\n",
    "\n",
    "\n",
    "def check_consistency(df1, df2):\n",
    "    \"\"\"\n",
    "    Check if two DataFrames have the same columns in the same order.\n",
    "\n",
    "    :param df1: First DataFrame to compare\n",
    "    :param df2: Second DataFrame to compare\n",
    "    :return: True if both DataFrames have the same columns in the same order, False otherwise\n",
    "    \"\"\"\n",
    "    # Check if the number of columns matches\n",
    "    if len(df1.columns) != len(df2.columns):\n",
    "        return False\n",
    "\n",
    "    # Check if all columns match in order and names\n",
    "    return all(df1.columns == df2.columns)\n",
    "\n",
    "to_check = [df, df2, df3]\n",
    "\n",
    "# Check consistency between all pairs of DataFrames\n",
    "for i in range(len(to_check)):\n",
    "    for j in range(i + 1, len(to_check)):\n",
    "        print(\n",
    "            f\"Checking consistency between DataFrame {i+1} and DataFrame {j+1}\")\n",
    "        result = check_consistency(to_check[i], to_check[j])\n",
    "        print(f\"Result: {result}\")"
   ]
  },
  {
   "cell_type": "code",
   "execution_count": 56,
   "metadata": {},
   "outputs": [
    {
     "data": {
      "text/html": [
       "<div>\n",
       "<style scoped>\n",
       "    .dataframe tbody tr th:only-of-type {\n",
       "        vertical-align: middle;\n",
       "    }\n",
       "\n",
       "    .dataframe tbody tr th {\n",
       "        vertical-align: top;\n",
       "    }\n",
       "\n",
       "    .dataframe thead th {\n",
       "        text-align: right;\n",
       "    }\n",
       "</style>\n",
       "<table border=\"1\" class=\"dataframe\">\n",
       "  <thead>\n",
       "    <tr style=\"text-align: right;\">\n",
       "      <th></th>\n",
       "      <th>Call Id</th>\n",
       "      <th>Agent</th>\n",
       "      <th>Date</th>\n",
       "      <th>Time</th>\n",
       "      <th>Topic</th>\n",
       "      <th>Answered (Y/N)</th>\n",
       "      <th>Resolved</th>\n",
       "      <th>Speed of answer in seconds</th>\n",
       "      <th>AvgTalkDuration</th>\n",
       "      <th>Satisfaction rating</th>\n",
       "    </tr>\n",
       "  </thead>\n",
       "  <tbody>\n",
       "    <tr>\n",
       "      <th>0</th>\n",
       "      <td>ID0001</td>\n",
       "      <td>Diane</td>\n",
       "      <td>2021-01-01</td>\n",
       "      <td>09:12:58</td>\n",
       "      <td>Contract related</td>\n",
       "      <td>Y</td>\n",
       "      <td>Y</td>\n",
       "      <td>109.0</td>\n",
       "      <td>00:02:23</td>\n",
       "      <td>3.0</td>\n",
       "    </tr>\n",
       "    <tr>\n",
       "      <th>1</th>\n",
       "      <td>ID0002</td>\n",
       "      <td>Becky</td>\n",
       "      <td>2021-01-01</td>\n",
       "      <td>09:12:58</td>\n",
       "      <td>Technical Support</td>\n",
       "      <td>Y</td>\n",
       "      <td>N</td>\n",
       "      <td>70.0</td>\n",
       "      <td>00:04:02</td>\n",
       "      <td>3.0</td>\n",
       "    </tr>\n",
       "    <tr>\n",
       "      <th>2</th>\n",
       "      <td>ID0003</td>\n",
       "      <td>Stewart</td>\n",
       "      <td>2021-01-01</td>\n",
       "      <td>09:47:31</td>\n",
       "      <td>Contract related</td>\n",
       "      <td>Y</td>\n",
       "      <td>Y</td>\n",
       "      <td>10.0</td>\n",
       "      <td>00:02:11</td>\n",
       "      <td>3.0</td>\n",
       "    </tr>\n",
       "    <tr>\n",
       "      <th>3</th>\n",
       "      <td>ID0004</td>\n",
       "      <td>Greg</td>\n",
       "      <td>2021-01-01</td>\n",
       "      <td>09:47:31</td>\n",
       "      <td>Contract related</td>\n",
       "      <td>Y</td>\n",
       "      <td>Y</td>\n",
       "      <td>53.0</td>\n",
       "      <td>00:00:37</td>\n",
       "      <td>2.0</td>\n",
       "    </tr>\n",
       "    <tr>\n",
       "      <th>4</th>\n",
       "      <td>ID0005</td>\n",
       "      <td>Becky</td>\n",
       "      <td>2021-01-01</td>\n",
       "      <td>10:00:29</td>\n",
       "      <td>Payment related</td>\n",
       "      <td>Y</td>\n",
       "      <td>Y</td>\n",
       "      <td>95.0</td>\n",
       "      <td>00:01:00</td>\n",
       "      <td>3.0</td>\n",
       "    </tr>\n",
       "    <tr>\n",
       "      <th>...</th>\n",
       "      <td>...</td>\n",
       "      <td>...</td>\n",
       "      <td>...</td>\n",
       "      <td>...</td>\n",
       "      <td>...</td>\n",
       "      <td>...</td>\n",
       "      <td>...</td>\n",
       "      <td>...</td>\n",
       "      <td>...</td>\n",
       "      <td>...</td>\n",
       "    </tr>\n",
       "    <tr>\n",
       "      <th>4995</th>\n",
       "      <td>ID4996</td>\n",
       "      <td>Jim</td>\n",
       "      <td>2021-03-31</td>\n",
       "      <td>16:37:55</td>\n",
       "      <td>Payment related</td>\n",
       "      <td>Y</td>\n",
       "      <td>Y</td>\n",
       "      <td>22.0</td>\n",
       "      <td>00:05:40</td>\n",
       "      <td>1.0</td>\n",
       "    </tr>\n",
       "    <tr>\n",
       "      <th>4996</th>\n",
       "      <td>ID4997</td>\n",
       "      <td>Diane</td>\n",
       "      <td>2021-03-31</td>\n",
       "      <td>16:45:07</td>\n",
       "      <td>Payment related</td>\n",
       "      <td>Y</td>\n",
       "      <td>Y</td>\n",
       "      <td>100.0</td>\n",
       "      <td>00:03:16</td>\n",
       "      <td>3.0</td>\n",
       "    </tr>\n",
       "    <tr>\n",
       "      <th>4997</th>\n",
       "      <td>ID4998</td>\n",
       "      <td>Diane</td>\n",
       "      <td>2021-03-31</td>\n",
       "      <td>16:53:46</td>\n",
       "      <td>Payment related</td>\n",
       "      <td>Y</td>\n",
       "      <td>Y</td>\n",
       "      <td>84.0</td>\n",
       "      <td>00:01:49</td>\n",
       "      <td>4.0</td>\n",
       "    </tr>\n",
       "    <tr>\n",
       "      <th>4998</th>\n",
       "      <td>ID4999</td>\n",
       "      <td>Jim</td>\n",
       "      <td>2021-03-31</td>\n",
       "      <td>17:02:24</td>\n",
       "      <td>Streaming</td>\n",
       "      <td>Y</td>\n",
       "      <td>Y</td>\n",
       "      <td>98.0</td>\n",
       "      <td>00:00:58</td>\n",
       "      <td>5.0</td>\n",
       "    </tr>\n",
       "    <tr>\n",
       "      <th>4999</th>\n",
       "      <td>ID5000</td>\n",
       "      <td>Diane</td>\n",
       "      <td>2021-03-31</td>\n",
       "      <td>17:39:50</td>\n",
       "      <td>Contract related</td>\n",
       "      <td>N</td>\n",
       "      <td>N</td>\n",
       "      <td>NaN</td>\n",
       "      <td>NaN</td>\n",
       "      <td>NaN</td>\n",
       "    </tr>\n",
       "  </tbody>\n",
       "</table>\n",
       "<p>10000 rows × 10 columns</p>\n",
       "</div>"
      ],
      "text/plain": [
       "     Call Id    Agent        Date      Time              Topic Answered (Y/N)  \\\n",
       "0     ID0001    Diane  2021-01-01  09:12:58   Contract related              Y   \n",
       "1     ID0002    Becky  2021-01-01  09:12:58  Technical Support              Y   \n",
       "2     ID0003  Stewart  2021-01-01  09:47:31   Contract related              Y   \n",
       "3     ID0004     Greg  2021-01-01  09:47:31   Contract related              Y   \n",
       "4     ID0005    Becky  2021-01-01  10:00:29    Payment related              Y   \n",
       "...      ...      ...         ...       ...                ...            ...   \n",
       "4995  ID4996      Jim  2021-03-31  16:37:55    Payment related              Y   \n",
       "4996  ID4997    Diane  2021-03-31  16:45:07    Payment related              Y   \n",
       "4997  ID4998    Diane  2021-03-31  16:53:46    Payment related              Y   \n",
       "4998  ID4999      Jim  2021-03-31  17:02:24          Streaming              Y   \n",
       "4999  ID5000    Diane  2021-03-31  17:39:50   Contract related              N   \n",
       "\n",
       "     Resolved  Speed of answer in seconds AvgTalkDuration  Satisfaction rating  \n",
       "0           Y                       109.0        00:02:23                  3.0  \n",
       "1           N                        70.0        00:04:02                  3.0  \n",
       "2           Y                        10.0        00:02:11                  3.0  \n",
       "3           Y                        53.0        00:00:37                  2.0  \n",
       "4           Y                        95.0        00:01:00                  3.0  \n",
       "...       ...                         ...             ...                  ...  \n",
       "4995        Y                        22.0        00:05:40                  1.0  \n",
       "4996        Y                       100.0        00:03:16                  3.0  \n",
       "4997        Y                        84.0        00:01:49                  4.0  \n",
       "4998        Y                        98.0        00:00:58                  5.0  \n",
       "4999        N                         NaN             NaN                  NaN  \n",
       "\n",
       "[10000 rows x 10 columns]"
      ]
     },
     "execution_count": 56,
     "metadata": {},
     "output_type": "execute_result"
    }
   ],
   "source": [
    "df_combined = pd.concat([df, df3])\n",
    "df_combined\n"
   ]
  },
  {
   "cell_type": "code",
   "execution_count": 57,
   "metadata": {},
   "outputs": [],
   "source": [
    "# Drop rows with missing values in the 'AvgTalkDuration' column\n",
    "df_avg_time = df_combined['AvgTalkDuration'].dropna()"
   ]
  },
  {
   "cell_type": "code",
   "execution_count": 82,
   "metadata": {},
   "outputs": [],
   "source": [
    "import datetime\n",
    "\n",
    "# Function to convert timedate information to time in numbers\n",
    "def convert_time(time_str):\n",
    "    time_str = time_str.split(':')\n",
    "    return datetime.timedelta(hours=int(time_str[0]), minutes=int(time_str[1]), seconds=int(time_str[2]))\n",
    "\n",
    "# Store seconds\n",
    "sec_list = []\n",
    "\n",
    "for i, index in enumerate(df_avg_time['AvgTalkDuration'].values):\n",
    "    # Extract the time from the string in seconds \n",
    "    sec_list.append(convert_time(str(df_avg_time['AvgTalkDuration'].values[i])).seconds)\n",
    "    "
   ]
  },
  {
   "cell_type": "code",
   "execution_count": 83,
   "metadata": {},
   "outputs": [
    {
     "data": {
      "image/png": "[encoded data removed]",
      "text/plain": [
       "<Figure size 640x480 with 1 Axes>"
      ]
     },
     "metadata": {},
     "output_type": "display_data"
    }
   ],
   "source": [
    "plt.style.use('ggplot')\n",
    "plt.hist(sec_list, bins=max(10, int(np.sqrt(len(sec_list)))));\n",
    "plt.show()"
   ]
  },
  {
   "cell_type": "code",
   "execution_count": 90,
   "metadata": {},
   "outputs": [
    {
     "name": "stdout",
     "output_type": "stream",
     "text": [
      "CPU times: user 1 µs, sys: 1 µs, total: 2 µs\n",
      "Wall time: 1.91 µs\n",
      "Estimated Population Mean: 224.92\n"
     ]
    },
    {
     "data": {
      "image/png": "[encoded data removed]",
      "text/plain": [
       "<Figure size 800x400 with 1 Axes>"
      ]
     },
     "metadata": {},
     "output_type": "display_data"
    }
   ],
   "source": [
    "%time\n",
    "\n",
    "import numpy as np\n",
    "import matplotlib.pyplot as plt\n",
    "from numba import jit, njit\n",
    "import warnings\n",
    "warnings.filterwarnings(\"ignore\")\n",
    "\n",
    "# Convert list to numpy array for numba compatibility\n",
    "\n",
    "@jit(nopython=True)\n",
    "def monte_carlo_clt(nsamples, ntrials, population):\n",
    "    \"\"\"\n",
    "    Perform Monte Carlo simulation to demonstrate the Central Limit Theorem.\n",
    "    \n",
    "    :param nsamples: Number of samples to draw per trial\n",
    "    :param ntrials: Number of trials to perform\n",
    "    :param population: The population array to sample from\n",
    "    :return: Array of sample means\n",
    "    \"\"\"\n",
    "    sample_means = np.zeros(ntrials)\n",
    "    population = np.array(population)\n",
    "\n",
    "    # Perform Monte Carlo trials\n",
    "    for i in range(ntrials):\n",
    "        # Draw a sample from the population\n",
    "        sample = np.random.choice(a=population, size=nsamples, replace=True)\n",
    "        # Calculate the mean of the sample\n",
    "        sample_mean = np.mean(sample)\n",
    "        # Store the sample mean\n",
    "        sample_means[i] = sample_mean\n",
    "\n",
    "    return sample_means\n",
    "\n",
    "\n",
    "def plot_sample_means(sample_means):\n",
    "    # Plot the distribution of sample means\n",
    "    plt.figure(figsize=(10, 5))\n",
    "    plt.hist(sample_means, bins=30, edgecolor='black', density=True)\n",
    "    plt.title('Distribution of Sample Means (CLT)')\n",
    "    plt.xlabel('Sample Mean')\n",
    "    plt.ylabel('Frequency')\n",
    "    plt.grid(True)\n",
    "    plt.show()\n",
    "\n",
    "\n",
    "# Example usage with 1000 samples per trial and 1000 trials\n",
    "n_samples = 5000\n",
    "n_trials = 10000\n",
    "sample_means = monte_carlo_clt(n_samples, n_trials, sec_list)\n",
    "\n",
    "# Calculate the mean of the sample means to estimate the population mean\n",
    "estimated_mean = np.mean(sample_means)\n",
    "print(f\"Estimated Population Mean: {estimated_mean:.2f}\")\n",
    "\n",
    "# Plot the sample means\n",
    "plot_sample_means(sample_means)"
   ]
  },
  {
   "cell_type": "markdown",
   "metadata": {},
   "source": [
    "This tell us the expected value of the time spend in phone conversations is around 224.92 seconds or 3.748 minutes.\n",
    "\n",
    "How do we this value is accurate? We don't. But relying on the central limit theorem for large N (here $N \\geq 10000$ gives us a reasonable estimate, i.e. the mean value from a gaussian.)\n"
   ]
  }
 ],
 "metadata": {
  "kernelspec": {
   "display_name": "light_scipy",
   "language": "python",
   "name": "python3"
  },
  "language_info": {
   "codemirror_mode": {
    "name": "ipython",
    "version": 3
   },
   "file_extension": ".py",
   "mimetype": "text/x-python",
   "name": "python",
   "nbconvert_exporter": "python",
   "pygments_lexer": "ipython3",
   "version": "3.11.4"
  }
 },
 "nbformat": 4,
 "nbformat_minor": 2
}
